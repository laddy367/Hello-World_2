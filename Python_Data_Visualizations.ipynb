{
  "metadata": {
    "kernelspec": {
      "language": "python",
      "display_name": "Python 3",
      "name": "python3"
    },
    "language_info": {
      "file_extension": ".py",
      "name": "python",
      "codemirror_mode": {
        "name": "ipython",
        "version": 3
      },
      "nbconvert_exporter": "python",
      "version": "3.6.1",
      "mimetype": "text/x-python",
      "pygments_lexer": "ipython3"
    },
    "kaggle": {
      "accelerator": "none",
      "dataSources": [
        {
          "sourceId": 420,
          "sourceType": "datasetVersion",
          "datasetId": 19
        }
      ],
      "isInternetEnabled": false,
      "language": "python",
      "sourceType": "notebook",
      "isGpuEnabled": false
    },
    "colab": {
      "name": "Python Data Visualizations",
      "provenance": [],
      "include_colab_link": true
    }
  },
  "nbformat_minor": 0,
  "nbformat": 4,
  "cells": [
    {
      "cell_type": "markdown",
      "metadata": {
        "id": "view-in-github",
        "colab_type": "text"
      },
      "source": [
        "<a href=\"https://colab.research.google.com/github/laddy367/Python-for-Finance/blob/main/Python_Data_Visualizations.ipynb\" target=\"_parent\"><img src=\"https://colab.research.google.com/assets/colab-badge.svg\" alt=\"Open In Colab\"/></a>"
      ]
    },
    {
      "cell_type": "markdown",
      "source": [
        "## This notebook demos Python data visualizations on the Iris dataset\n",
        "\n",
        "This Python 3 environment comes with many helpful analytics libraries installed. It is defined by the [kaggle/python docker image](https://github.com/kaggle/docker-python)\n",
        "\n",
        "We'll use three libraries for this tutorial: [pandas](http://pandas.pydata.org/), [matplotlib](http://matplotlib.org/), and [seaborn](http://stanford.edu/~mwaskom/software/seaborn/).\n",
        "\n",
        "Press \"Fork\" at the top-right of this screen to run this notebook yourself and build each of the examples."
      ],
      "metadata": {
        "_cell_guid": "e748dd89-de20-44f2-a122-b2bb69fbab24",
        "_uuid": "a42ede279bffeecdddd64047e06fee4b9aed50c5",
        "id": "qkMY14aVaKko"
      }
    },
    {
      "source": [
        "\n",
        "# IMPORTANT: RUN THIS CELL IN ORDER TO IMPORT YOUR KAGGLE DATA SOURCES\n",
        "# TO THE CORRECT LOCATION (/kaggle/input) IN YOUR NOTEBOOK,\n",
        "# THEN FEEL FREE TO DELETE THIS CELL.\n",
        "# NOTE: THIS NOTEBOOK ENVIRONMENT DIFFERS FROM KAGGLE'S PYTHON\n",
        "# ENVIRONMENT SO THERE MAY BE MISSING LIBRARIES USED BY YOUR\n",
        "# NOTEBOOK.\n",
        "\n",
        "import os\n",
        "import sys\n",
        "from tempfile import NamedTemporaryFile\n",
        "from urllib.request import urlopen\n",
        "from urllib.parse import unquote, urlparse\n",
        "from urllib.error import HTTPError\n",
        "from zipfile import ZipFile\n",
        "import tarfile\n",
        "import shutil\n",
        "\n",
        "CHUNK_SIZE = 40960\n",
        "DATA_SOURCE_MAPPING = ':https%3A%2F%2Fstorage.googleapis.com%2Fkaggle-data-sets%2F19%2F420%2Fbundle%2Farchive.zip%3FX-Goog-Algorithm%3DGOOG4-RSA-SHA256%26X-Goog-Credential%3Dgcp-kaggle-com%2540kaggle-161607.iam.gserviceaccount.com%252F20240305%252Fauto%252Fstorage%252Fgoog4_request%26X-Goog-Date%3D20240305T065901Z%26X-Goog-Expires%3D259200%26X-Goog-SignedHeaders%3Dhost%26X-Goog-Signature%3Dacedd637312c88bac0d806f1b633ec80a6c1ab7437338082ae9abede7ae82c8c55801601215af685013321a9ef2e9fbbaed7058253c62b3003b946ea89cb5d5fbafd8ebbd49ff90a09c7f666ca07d0aacec4c7e02dbfac035fd5462c5d0b0158b6e35ae656b6cd69b8f9f20a0dece81b47d8c31f017577cdc071d5294d189a149547db6be74fd342c661b151655bc282dd5409faed505bcec0238fc6abe3828bb4d59e5533758297f34034516c9866a71fada9c3d0118418251048a589c6562adfaafbc1e5f32ec7565c49889458d675749c34d850c8295ec50f89d62c2d1fcd5d53888ca02eeaa14764af9734177d0061bdff029d355ac63f86c0ea487d7e04'\n",
        "\n",
        "KAGGLE_INPUT_PATH='/kaggle/input'\n",
        "KAGGLE_WORKING_PATH='/kaggle/working'\n",
        "KAGGLE_SYMLINK='kaggle'\n",
        "\n",
        "!umount /kaggle/input/ 2> /dev/null\n",
        "shutil.rmtree('/kaggle/input', ignore_errors=True)\n",
        "os.makedirs(KAGGLE_INPUT_PATH, 0o777, exist_ok=True)\n",
        "os.makedirs(KAGGLE_WORKING_PATH, 0o777, exist_ok=True)\n",
        "\n",
        "try:\n",
        "  os.symlink(KAGGLE_INPUT_PATH, os.path.join(\"..\", 'input'), target_is_directory=True)\n",
        "except FileExistsError:\n",
        "  pass\n",
        "try:\n",
        "  os.symlink(KAGGLE_WORKING_PATH, os.path.join(\"..\", 'working'), target_is_directory=True)\n",
        "except FileExistsError:\n",
        "  pass\n",
        "\n",
        "for data_source_mapping in DATA_SOURCE_MAPPING.split(','):\n",
        "    directory, download_url_encoded = data_source_mapping.split(':')\n",
        "    download_url = unquote(download_url_encoded)\n",
        "    filename = urlparse(download_url).path\n",
        "    destination_path = os.path.join(KAGGLE_INPUT_PATH, directory)\n",
        "    try:\n",
        "        with urlopen(download_url) as fileres, NamedTemporaryFile() as tfile:\n",
        "            total_length = fileres.headers['content-length']\n",
        "            print(f'Downloading {directory}, {total_length} bytes compressed')\n",
        "            dl = 0\n",
        "            data = fileres.read(CHUNK_SIZE)\n",
        "            while len(data) > 0:\n",
        "                dl += len(data)\n",
        "                tfile.write(data)\n",
        "                done = int(50 * dl / int(total_length))\n",
        "                sys.stdout.write(f\"\\r[{'=' * done}{' ' * (50-done)}] {dl} bytes downloaded\")\n",
        "                sys.stdout.flush()\n",
        "                data = fileres.read(CHUNK_SIZE)\n",
        "            if filename.endswith('.zip'):\n",
        "              with ZipFile(tfile) as zfile:\n",
        "                zfile.extractall(destination_path)\n",
        "            else:\n",
        "              with tarfile.open(tfile.name) as tarfile:\n",
        "                tarfile.extractall(destination_path)\n",
        "            print(f'\\nDownloaded and uncompressed: {directory}')\n",
        "    except HTTPError as e:\n",
        "        print(f'Failed to load (likely expired) {download_url} to path {destination_path}')\n",
        "        continue\n",
        "    except OSError as e:\n",
        "        print(f'Failed to load {download_url} to path {destination_path}')\n",
        "        continue\n",
        "\n",
        "print('Data source import complete.')\n"
      ],
      "metadata": {
        "id": "CcNrimgIaKkg"
      },
      "cell_type": "code",
      "outputs": [],
      "execution_count": null
    },
    {
      "cell_type": "code",
      "source": [
        "# First, we'll import pandas, a data processing and CSV file I/O library\n",
        "import pandas as pd\n",
        "\n",
        "# We'll also import seaborn, a Python graphing library\n",
        "import warnings # current version of seaborn generates a bunch of warnings that we'll ignore\n",
        "warnings.filterwarnings(\"ignore\")\n",
        "import seaborn as sns\n",
        "import matplotlib.pyplot as plt\n",
        "sns.set(style=\"white\", color_codes=True)\n",
        "\n",
        "# Next, we'll load the Iris flower dataset, which is in the \"../input/\" directory\n",
        "iris = pd.read_csv(\"../input/Iris.csv\") # the iris dataset is now a Pandas DataFrame\n",
        "\n",
        "# Let's see what's in the iris data - Jupyter notebooks print the result of the last thing you do\n",
        "iris.head()\n",
        "\n",
        "# Press shift+enter to execute this cell"
      ],
      "metadata": {
        "_cell_guid": "136008bf-b756-49c1-bc5e-81c1247b969d",
        "_uuid": "4a72555be32be45a318141821b58ceac28ffb0d7",
        "id": "4EXqwXAjaKkq"
      },
      "execution_count": null,
      "outputs": []
    },
    {
      "cell_type": "code",
      "source": [
        "# Let's see how many examples we have of each species\n",
        "iris[\"Species\"].value_counts()"
      ],
      "metadata": {
        "_cell_guid": "5dba36af-1bb8-49e5-9b49-1451f4136246",
        "_uuid": "ef33a54d1e704924d1eb29632728011d31bfb543",
        "id": "moRcEWZBaKkr"
      },
      "execution_count": null,
      "outputs": []
    },
    {
      "cell_type": "code",
      "source": [
        "# The first way we can plot things is using the .plot extension from Pandas dataframes\n",
        "# We'll use this to make a scatterplot of the Iris features.\n",
        "iris.plot(kind=\"scatter\", x=\"SepalLengthCm\", y=\"SepalWidthCm\")"
      ],
      "metadata": {
        "_cell_guid": "b8588972-deb5-4094-99a6-5feb722e3301",
        "_uuid": "b61dbe844a638b1b26e0c3f16a104570d4b60010",
        "id": "YSAsKitmaKks"
      },
      "execution_count": null,
      "outputs": []
    },
    {
      "cell_type": "code",
      "source": [
        "# We can also use the seaborn library to make a similar plot\n",
        "# A seaborn jointplot shows bivariate scatterplots and univariate histograms in the same figure\n",
        "sns.jointplot(x=\"SepalLengthCm\", y=\"SepalWidthCm\", data=iris, size=5)"
      ],
      "metadata": {
        "_cell_guid": "dc213965-5341-4ce7-ad13-42eb5e2fa1e7",
        "_uuid": "81da4a44d4ec41f5c7acd172c75df2f47884a13e",
        "id": "9v6NyL1UaKkt"
      },
      "execution_count": null,
      "outputs": []
    },
    {
      "cell_type": "code",
      "source": [
        "# One piece of information missing in the plots above is what species each plant is\n",
        "# We'll use seaborn's FacetGrid to color the scatterplot by species\n",
        "sns.FacetGrid(iris, hue=\"Species\", size=5) \\\n",
        "   .map(plt.scatter, \"SepalLengthCm\", \"SepalWidthCm\") \\\n",
        "   .add_legend()"
      ],
      "metadata": {
        "_cell_guid": "0a5c46f6-be6e-4ef6-94a4-9bea13c9a0aa",
        "_uuid": "d07401f715fa8f39951a6212bce668657d457fe1",
        "id": "SBLwmGMiaKku"
      },
      "execution_count": null,
      "outputs": []
    },
    {
      "cell_type": "code",
      "source": [
        "# We can look at an individual feature in Seaborn through a boxplot\n",
        "sns.boxplot(x=\"Species\", y=\"PetalLengthCm\", data=iris)"
      ],
      "metadata": {
        "_cell_guid": "128245d5-6f01-44cd-8b2f-8a49735ac552",
        "_uuid": "01cb1b0849f6c7e800c8798164741a8fdae53617",
        "id": "NWlb9baUaKkw"
      },
      "execution_count": null,
      "outputs": []
    },
    {
      "cell_type": "code",
      "source": [
        "# One way we can extend this plot is adding a layer of individual points on top of\n",
        "# it through Seaborn's striplot\n",
        "#\n",
        "# We'll use jitter=True so that all the points don't fall in single vertical lines\n",
        "# above the species\n",
        "#\n",
        "# Saving the resulting axes as ax each time causes the resulting plot to be shown\n",
        "# on top of the previous axes\n",
        "ax = sns.boxplot(x=\"Species\", y=\"PetalLengthCm\", data=iris)\n",
        "ax = sns.stripplot(x=\"Species\", y=\"PetalLengthCm\", data=iris, jitter=True, edgecolor=\"gray\")"
      ],
      "metadata": {
        "_cell_guid": "b86a675c-f604-496a-931a-df76d7d6aaa1",
        "_uuid": "a481595c1e46d625e887b61f5eb0e3c48269bde9",
        "id": "tvF4JMvSaKkx"
      },
      "execution_count": null,
      "outputs": []
    },
    {
      "cell_type": "code",
      "source": [
        "# A violin plot combines the benefits of the previous two plots and simplifies them\n",
        "# Denser regions of the data are fatter, and sparser thiner in a violin plot\n",
        "sns.violinplot(x=\"Species\", y=\"PetalLengthCm\", data=iris, size=6)"
      ],
      "metadata": {
        "_cell_guid": "c49f199b-2798-4fdc-87a7-bd2f7f8ff447",
        "_uuid": "0d422fc672f3cfb30ec02d1345942cc583c51b05",
        "id": "k-BaN3-iaKkx"
      },
      "execution_count": null,
      "outputs": []
    },
    {
      "cell_type": "code",
      "source": [
        "# A final seaborn plot useful for looking at univariate relations is the kdeplot,\n",
        "# which creates and visualizes a kernel density estimate of the underlying feature\n",
        "sns.FacetGrid(iris, hue=\"Species\", size=6) \\\n",
        "   .map(sns.kdeplot, \"PetalLengthCm\") \\\n",
        "   .add_legend()"
      ],
      "metadata": {
        "_cell_guid": "78c32fc8-3c36-482a-81f4-14d4b6ee1430",
        "_uuid": "b10aa16c47bdad1964d1746281564f68a5ab741e",
        "id": "4t8gxUzZaKky"
      },
      "execution_count": null,
      "outputs": []
    },
    {
      "cell_type": "code",
      "source": [
        "# Another useful seaborn plot is the pairplot, which shows the bivariate relation\n",
        "# between each pair of features\n",
        "#\n",
        "# From the pairplot, we'll see that the Iris-setosa species is separataed from the other\n",
        "# two across all feature combinations\n",
        "sns.pairplot(iris.drop(\"Id\", axis=1), hue=\"Species\", size=3)"
      ],
      "metadata": {
        "_cell_guid": "7351999e-4522-451f-b3f1-0031c3a88eaa",
        "_uuid": "fb9e2f61bf81478f21489f1219358e2b6fa164dd",
        "id": "2I2XWGwnaKkz"
      },
      "execution_count": null,
      "outputs": []
    },
    {
      "cell_type": "code",
      "source": [
        "# The diagonal elements in a pairplot show the histogram by default\n",
        "# We can update these elements to show other things, such as a kde\n",
        "sns.pairplot(iris.drop(\"Id\", axis=1), hue=\"Species\", size=3, diag_kind=\"kde\")"
      ],
      "metadata": {
        "_cell_guid": "3f1fb3ba-e0fd-45b4-8a64-fe2a689bb83b",
        "_uuid": "417d197016286a1af02eb522b3a0e0476e76b39b",
        "id": "0XZMH543aKkz"
      },
      "execution_count": null,
      "outputs": []
    },
    {
      "cell_type": "code",
      "source": [
        "# Now that we've covered seaborn, let's go back to some of the ones we can make with Pandas\n",
        "# We can quickly make a boxplot with Pandas on each feature split out by species\n",
        "iris.drop(\"Id\", axis=1).boxplot(by=\"Species\", figsize=(12, 6))"
      ],
      "metadata": {
        "_cell_guid": "46cceec5-3525-4b02-8ab7-5ed1420cd198",
        "_uuid": "d7fb122f77031cc79ab0e922608d9e6c5de774ca",
        "id": "BWjEJC2eaKkz"
      },
      "execution_count": null,
      "outputs": []
    },
    {
      "cell_type": "code",
      "source": [
        "# One cool more sophisticated technique pandas has available is called Andrews Curves\n",
        "# Andrews Curves involve using attributes of samples as coefficients for Fourier series\n",
        "# and then plotting these\n",
        "from pandas.tools.plotting import andrews_curves\n",
        "andrews_curves(iris.drop(\"Id\", axis=1), \"Species\")"
      ],
      "metadata": {
        "_cell_guid": "5bbed28c-d813-41c4-824d-7038fbfee6ea",
        "_uuid": "61c76e99340b06c8020151ae4b8942e1daa8b1ef",
        "id": "iCDKsYiYaKk0"
      },
      "execution_count": null,
      "outputs": []
    },
    {
      "cell_type": "code",
      "source": [
        "# Another multivariate visualization technique pandas has is parallel_coordinates\n",
        "# Parallel coordinates plots each feature on a separate column & then draws lines\n",
        "# connecting the features for each data sample\n",
        "from pandas.tools.plotting import parallel_coordinates\n",
        "parallel_coordinates(iris.drop(\"Id\", axis=1), \"Species\")"
      ],
      "metadata": {
        "_cell_guid": "77c1b6f0-7632-4d61-bf03-7b5d6856b987",
        "_uuid": "b9ac80fdd71c270c9991d34ca87f70d6b00b2192",
        "id": "AumgodoXaKk0"
      },
      "execution_count": null,
      "outputs": []
    },
    {
      "cell_type": "code",
      "source": [
        "# A final multivariate visualization technique pandas has is radviz\n",
        "# Which puts each feature as a point on a 2D plane, and then simulates\n",
        "# having each sample attached to those points through a spring weighted\n",
        "# by the relative value for that feature\n",
        "from pandas.tools.plotting import radviz\n",
        "radviz(iris.drop(\"Id\", axis=1), \"Species\")"
      ],
      "metadata": {
        "_cell_guid": "d5c6314f-7b36-41ce-b0bd-e2ef17941f97",
        "_uuid": "38b7de27f1f882347de21193d93bf474f96c2288",
        "id": "OqdLA8RmaKk0"
      },
      "execution_count": null,
      "outputs": []
    },
    {
      "cell_type": "markdown",
      "source": [
        "# Wrapping Up\n",
        "\n",
        "I hope you enjoyed this quick introduction to some of the quick, simple data visualizations you can create with pandas, seaborn, and matplotlib in Python!\n",
        "\n",
        "I encourage you to run through these examples yourself, tweaking them and seeing what happens. From there, you can try applying these methods to a new dataset and incorprating them into your own workflow!\n",
        "\n",
        "See [Kaggle Datasets](https://www.kaggle.com/datasets) for other datasets to try visualizing. The [World Food Facts data](https://www.kaggle.com/openfoodfacts/world-food-facts) is an especially rich one for visualization."
      ],
      "metadata": {
        "_cell_guid": "0263903e-4c3f-41c5-adf6-a1a12c122ddb",
        "_uuid": "a47be9b234eb942e71425b3e00b741a41488ea33",
        "id": "c8DygBkraKk0"
      }
    }
  ]
}